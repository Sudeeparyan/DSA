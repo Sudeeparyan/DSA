{
 "cells": [
  {
   "cell_type": "code",
   "execution_count": 15,
   "metadata": {},
   "outputs": [
    {
     "name": "stdout",
     "output_type": "stream",
     "text": [
      "['Computer ', 'App Engine', 'Kubernetes'] Kubernetes\n",
      "(40.7, -74.05)\n",
      "{'Sudeep', 'Vicky', 'Aryan'}\n",
      "{'Sudeep': 1, 'Aryan': 2, 'Vicky': 3}\n"
     ]
    }
   ],
   "source": [
    "## List\n",
    "list=['Computer ','App Engine','Kubernetes']\n",
    "print(list,list[2])\n",
    "\n",
    "tuple=(40.7,-74.05)\n",
    "print(tuple)\n",
    "\n",
    "set={\"Sudeep\",\"Aryan\",\"Vicky\"}\n",
    "print(set)\n",
    "\n",
    "dictionary={\"Sudeep\":1, \"Aryan\":2, \"Vicky\":3}\n",
    "print(dictionary)"
   ]
  },
  {
   "cell_type": "code",
   "execution_count": 4,
   "metadata": {},
   "outputs": [
    {
     "name": "stdout",
     "output_type": "stream",
     "text": [
      "Kubernetes\n"
     ]
    }
   ],
   "source": []
  },
  {
   "cell_type": "code",
   "execution_count": null,
   "metadata": {},
   "outputs": [],
   "source": []
  }
 ],
 "metadata": {
  "kernelspec": {
   "display_name": "Python 3",
   "language": "python",
   "name": "python3"
  },
  "language_info": {
   "codemirror_mode": {
    "name": "ipython",
    "version": 3
   },
   "file_extension": ".py",
   "mimetype": "text/x-python",
   "name": "python",
   "nbconvert_exporter": "python",
   "pygments_lexer": "ipython3",
   "version": "3.11.4"
  }
 },
 "nbformat": 4,
 "nbformat_minor": 2
}
