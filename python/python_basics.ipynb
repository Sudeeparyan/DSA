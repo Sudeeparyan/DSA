{
 "cells": [
  {
   "cell_type": "code",
   "execution_count": 15,
   "metadata": {},
   "outputs": [
    {
     "name": "stdout",
     "output_type": "stream",
     "text": [
      "['Computer ', 'App Engine', 'Kubernetes'] Kubernetes\n",
      "(40.7, -74.05)\n",
      "{'Sudeep', 'Vicky', 'Aryan'}\n",
      "{'Sudeep': 1, 'Aryan': 2, 'Vicky': 3}\n"
     ]
    }
   ],
   "source": [
    "## List\n",
    "list=['Computer ','App Engine','Kubernetes']\n",
    "print(list,list[2])\n",
    "\n",
    "tuple=(40.7,-74.05)\n",
    "print(tuple)\n",
    "\n",
    "set={\"Sudeep\",\"Aryan\",\"Vicky\"}\n",
    "print(set)\n",
    "\n",
    "dictionary={\"Sudeep\":1, \"Aryan\":2, \"Vicky\":3}\n",
    "print(dictionary)"
   ]
  },
  {
   "cell_type": "markdown",
   "metadata": {},
   "source": [
    "## Variables"
   ]
  },
  {
   "cell_type": "code",
   "execution_count": 1,
   "metadata": {},
   "outputs": [
    {
     "name": "stdout",
     "output_type": "stream",
     "text": [
      "n= 0\n"
     ]
    }
   ],
   "source": [
    "n=0\n",
    "print('n=',n)"
   ]
  },
  {
   "cell_type": "code",
   "execution_count": 2,
   "metadata": {},
   "outputs": [
    {
     "name": "stdout",
     "output_type": "stream",
     "text": [
      "n= abc\n"
     ]
    }
   ],
   "source": [
    "n=\"abc\"\n",
    "print('n=',n)"
   ]
  },
  {
   "cell_type": "code",
   "execution_count": 5,
   "metadata": {},
   "outputs": [
    {
     "name": "stdout",
     "output_type": "stream",
     "text": [
      "0 abc\n"
     ]
    }
   ],
   "source": [
    "n,m = 0,\"abc\"\n",
    "print(n,m)"
   ]
  },
  {
   "cell_type": "code",
   "execution_count": 6,
   "metadata": {},
   "outputs": [
    {
     "name": "stdout",
     "output_type": "stream",
     "text": [
      "0.125 abc False\n"
     ]
    }
   ],
   "source": [
    "n,m,z = 0.125,\"abc\",False\n",
    "print(n,m,z)"
   ]
  },
  {
   "cell_type": "code",
   "execution_count": null,
   "metadata": {},
   "outputs": [
    {
     "name": "stdout",
     "output_type": "stream",
     "text": [
      "2\n"
     ]
    }
   ],
   "source": [
    "k = 0\n",
    "k = k + 1\n",
    "print(k)"
   ]
  },
  {
   "cell_type": "code",
   "execution_count": 19,
   "metadata": {},
   "outputs": [
    {
     "name": "stdout",
     "output_type": "stream",
     "text": [
      "1\n"
     ]
    }
   ],
   "source": [
    "l=0\n",
    "l +=1\n",
    "print(l)"
   ]
  },
  {
   "cell_type": "markdown",
   "metadata": {},
   "source": [
    "## IF Statement"
   ]
  },
  {
   "cell_type": "code",
   "execution_count": null,
   "metadata": {},
   "outputs": [
    {
     "name": "stdout",
     "output_type": "stream",
     "text": [
      "3\n"
     ]
    }
   ],
   "source": [
    "n=1\n",
    "if n>2:\n",
    "    n-=1\n",
    "elif n == 2:\n",
    "    n*=2\n",
    "else:\n",
    "    n += 2\n",
    "print(n)"
   ]
  },
  {
   "cell_type": "code",
   "execution_count": 25,
   "metadata": {},
   "outputs": [
    {
     "name": "stdout",
     "output_type": "stream",
     "text": [
      "Bye\n"
     ]
    }
   ],
   "source": [
    "n,m = 1,2\n",
    "if((n>2 and n !=m) or n ==m):\n",
    "    n+=1\n",
    "    print(n,\"HI\")\n",
    "print(\"Bye\")"
   ]
  },
  {
   "cell_type": "markdown",
   "metadata": {},
   "source": [
    "## Loops"
   ]
  },
  {
   "cell_type": "code",
   "execution_count": 38,
   "metadata": {},
   "outputs": [
    {
     "name": "stdout",
     "output_type": "stream",
     "text": [
      "0\n",
      "1\n",
      "2\n",
      "3\n",
      "4\n"
     ]
    }
   ],
   "source": [
    "n=0\n",
    "while n<5:\n",
    "    print(n)\n",
    "    n+=1"
   ]
  },
  {
   "cell_type": "code",
   "execution_count": 29,
   "metadata": {},
   "outputs": [
    {
     "name": "stdout",
     "output_type": "stream",
     "text": [
      "0\n",
      "1\n",
      "2\n",
      "3\n",
      "4\n"
     ]
    }
   ],
   "source": [
    "for i in range(5):\n",
    "    print(i)"
   ]
  },
  {
   "cell_type": "code",
   "execution_count": 52,
   "metadata": {},
   "outputs": [
    {
     "name": "stdout",
     "output_type": "stream",
     "text": [
      "0\n",
      "1\n",
      "2\n",
      "3\n",
      "4\n"
     ]
    }
   ],
   "source": [
    "n = 0\n",
    "while n<5:\n",
    "    print(n)\n",
    "    n+=1\n"
   ]
  },
  {
   "cell_type": "code",
   "execution_count": 39,
   "metadata": {},
   "outputs": [
    {
     "name": "stdout",
     "output_type": "stream",
     "text": [
      "2\n",
      "3\n",
      "4\n",
      "5\n"
     ]
    }
   ],
   "source": [
    "for i in range (2,6):\n",
    "    print(i)"
   ]
  },
  {
   "cell_type": "code",
   "execution_count": 45,
   "metadata": {},
   "outputs": [
    {
     "name": "stdout",
     "output_type": "stream",
     "text": [
      "5\n",
      "4\n",
      "3\n",
      "2\n"
     ]
    }
   ],
   "source": [
    "for i in range (5,1,-1):\n",
    "    print(i)"
   ]
  },
  {
   "cell_type": "markdown",
   "metadata": {},
   "source": [
    "## Math"
   ]
  },
  {
   "cell_type": "code",
   "execution_count": 53,
   "metadata": {},
   "outputs": [
    {
     "name": "stdout",
     "output_type": "stream",
     "text": [
      "2.5\n"
     ]
    }
   ],
   "source": [
    "print(5/2)"
   ]
  },
  {
   "cell_type": "code",
   "execution_count": 54,
   "metadata": {},
   "outputs": [
    {
     "name": "stdout",
     "output_type": "stream",
     "text": [
      "-2.5\n"
     ]
    }
   ],
   "source": [
    "print(-5/2)"
   ]
  },
  {
   "cell_type": "code",
   "execution_count": 55,
   "metadata": {},
   "outputs": [
    {
     "name": "stdout",
     "output_type": "stream",
     "text": [
      "2\n"
     ]
    }
   ],
   "source": [
    "print(5//2)"
   ]
  },
  {
   "cell_type": "code",
   "execution_count": 58,
   "metadata": {},
   "outputs": [
    {
     "name": "stdout",
     "output_type": "stream",
     "text": [
      "-2\n"
     ]
    }
   ],
   "source": [
    "print(-3//2)"
   ]
  },
  {
   "cell_type": "code",
   "execution_count": 57,
   "metadata": {},
   "outputs": [
    {
     "name": "stdout",
     "output_type": "stream",
     "text": [
      "-1\n"
     ]
    }
   ],
   "source": [
    "print(int(-3/2))"
   ]
  },
  {
   "cell_type": "code",
   "execution_count": 59,
   "metadata": {},
   "outputs": [
    {
     "name": "stdout",
     "output_type": "stream",
     "text": [
      "1\n"
     ]
    }
   ],
   "source": [
    "print(10 % 3)"
   ]
  },
  {
   "cell_type": "code",
   "execution_count": 60,
   "metadata": {},
   "outputs": [
    {
     "name": "stdout",
     "output_type": "stream",
     "text": [
      "2\n"
     ]
    }
   ],
   "source": [
    "print(-10 % 3)"
   ]
  },
  {
   "cell_type": "code",
   "execution_count": 67,
   "metadata": {},
   "outputs": [
    {
     "name": "stdout",
     "output_type": "stream",
     "text": [
      "-1.0\n",
      "1\n",
      "2\n",
      "1.4142135623730951\n",
      "8.0\n",
      "True\n"
     ]
    }
   ],
   "source": [
    "import math\n",
    "print(math.fmod(-10,3))\n",
    "print(math.floor(3/2))\n",
    "print(math.ceil(3/2))\n",
    "print(math.sqrt(2))\n",
    "print(math.pow(2,3))\n",
    "print(math.pow(2,200)< float(\"inf\"))"
   ]
  },
  {
   "cell_type": "markdown",
   "metadata": {},
   "source": [
    "## Arryas"
   ]
  },
  {
   "cell_type": "code",
   "execution_count": 76,
   "metadata": {},
   "outputs": [
    {
     "name": "stdout",
     "output_type": "stream",
     "text": [
      "[1, 2, 3] first\n",
      "[1, 2, 3, 4] second\n",
      "[1, 2, 3, 4, 5] third\n",
      "[1, 2, 3, 4] fourth\n",
      "[1, 7, 2, 3, 4] fifth\n"
     ]
    }
   ],
   "source": [
    "arr= [1,2,3]\n",
    "print(arr,\"first\")\n",
    "arr.append(4)\n",
    "print(arr,\"second\")\n",
    "arr.append(5)\n",
    "print(arr,\"third\")\n",
    "arr.pop()\n",
    "print(arr,\"fourth\")\n",
    "arr.insert(1,7)\n",
    "print(arr,\"fifth\")"
   ]
  },
  {
   "cell_type": "code",
   "execution_count": 78,
   "metadata": {},
   "outputs": [
    {
     "name": "stdout",
     "output_type": "stream",
     "text": [
      "[0, 7, 2, 0, 4]\n"
     ]
    }
   ],
   "source": [
    "arr[0]=0\n",
    "arr[3]=0\n",
    "print(arr)"
   ]
  },
  {
   "cell_type": "code",
   "execution_count": 84,
   "metadata": {},
   "outputs": [
    {
     "name": "stdout",
     "output_type": "stream",
     "text": [
      "[1, 1, 1, 1, 1]\n",
      "5\n",
      "1\n",
      "1\n"
     ]
    }
   ],
   "source": [
    "# Initialize arr of size n with default value of 1\n",
    "n = 5\n",
    "arr = [1]*n\n",
    "print(arr)\n",
    "print(len(arr))\n",
    "print(arr[-1])\n",
    "print(arr[-2])"
   ]
  },
  {
   "cell_type": "code",
   "execution_count": 85,
   "metadata": {},
   "outputs": [
    {
     "name": "stdout",
     "output_type": "stream",
     "text": [
      "[2, 3]\n"
     ]
    }
   ],
   "source": [
    "arr=[1,2,3,4,5]\n",
    "print(arr[1:3])"
   ]
  },
  {
   "cell_type": "code",
   "execution_count": 88,
   "metadata": {},
   "outputs": [
    {
     "name": "stdout",
     "output_type": "stream",
     "text": [
      "[1, 2, 3]\n",
      "[1, 2, 3, 4]\n"
     ]
    }
   ],
   "source": [
    "print(arr[0:3])\n",
    "print(arr[0:-1])"
   ]
  },
  {
   "cell_type": "code",
   "execution_count": 93,
   "metadata": {},
   "outputs": [
    {
     "name": "stdout",
     "output_type": "stream",
     "text": [
      "1 2 3\n"
     ]
    }
   ],
   "source": [
    "a,b,c = [1,2,3]\n",
    "print(a,b,c)\n",
    "# x,y = [1,2,3]\n",
    "# print(x,y) cant able to print the value numbers should match the values"
   ]
  },
  {
   "cell_type": "markdown",
   "metadata": {},
   "source": [
    "## Loops through the arrays"
   ]
  },
  {
   "cell_type": "code",
   "execution_count": null,
   "metadata": {},
   "outputs": [
    {
     "name": "stdout",
     "output_type": "stream",
     "text": [
      "1\n",
      "2\n",
      "3\n"
     ]
    }
   ],
   "source": [
    "# Using the index\n",
    "nums = [1,2,3]\n",
    "for i in range(len(nums)):\n",
    "    print(nums[i])"
   ]
  },
  {
   "cell_type": "code",
   "execution_count": 103,
   "metadata": {},
   "outputs": [
    {
     "name": "stdout",
     "output_type": "stream",
     "text": [
      "1\n",
      "2\n",
      "3\n"
     ]
    }
   ],
   "source": [
    "# Without Index\n",
    "for n in  nums:\n",
    "    print(n)\n"
   ]
  },
  {
   "cell_type": "code",
   "execution_count": 105,
   "metadata": {},
   "outputs": [
    {
     "name": "stdout",
     "output_type": "stream",
     "text": [
      "0 1\n",
      "1 2\n",
      "2 3\n"
     ]
    }
   ],
   "source": [
    "# With index and vlaue\n",
    "for i,n in enumerate(nums):\n",
    "    print(i,n)"
   ]
  },
  {
   "cell_type": "code",
   "execution_count": 107,
   "metadata": {},
   "outputs": [
    {
     "name": "stdout",
     "output_type": "stream",
     "text": [
      "1 2\n",
      "3 4\n",
      "5 6\n"
     ]
    }
   ],
   "source": [
    "# Loop through multiple arrays simultaneously\n",
    "# with unpacking\n",
    "nums1 = [1,3,5]\n",
    "nums2 = [2,4,6]\n",
    "for n1, n2 in zip(nums1,nums2):\n",
    "    print(n1,n2)"
   ]
  },
  {
   "cell_type": "code",
   "execution_count": 109,
   "metadata": {},
   "outputs": [
    {
     "name": "stdout",
     "output_type": "stream",
     "text": [
      "[5, 4, 3, 2, 1]\n"
     ]
    }
   ],
   "source": [
    "# Reverse\n",
    "nums = [1,2,3,4,5]\n",
    "nums.reverse()\n",
    "print(nums)"
   ]
  },
  {
   "cell_type": "code",
   "execution_count": 113,
   "metadata": {},
   "outputs": [
    {
     "name": "stdout",
     "output_type": "stream",
     "text": [
      "[1, 2, 3, 5, 5, 6, 7, 8, 9] Sort in Accending Order\n",
      "[9, 8, 7, 6, 5, 5, 3, 2, 1] Sort in Descending Order\n"
     ]
    }
   ],
   "source": [
    "arr = [ 5,8,6,9,2,7,1,3,5]\n",
    "arr.sort()\n",
    "print(arr,\"Sort in Accending Order\")\n",
    "arr.sort(reverse=True)\n",
    "print(arr,\"Sort in Descending Order\")"
   ]
  },
  {
   "cell_type": "code",
   "execution_count": 114,
   "metadata": {},
   "outputs": [
    {
     "name": "stdout",
     "output_type": "stream",
     "text": [
      "['alice', 'bob', 'doe', 'jane']\n"
     ]
    }
   ],
   "source": [
    "arr= [\"bob\",\"alice\",\"jane\",\"doe\"]\n",
    "arr.sort()\n",
    "print(arr)"
   ]
  },
  {
   "cell_type": "code",
   "execution_count": 115,
   "metadata": {},
   "outputs": [
    {
     "name": "stdout",
     "output_type": "stream",
     "text": [
      "['bob', 'doe', 'jane', 'alice'] Sort by length\n"
     ]
    }
   ],
   "source": [
    "# Custome Sort (by length of string)\n",
    "arr.sort(key=lambda x:len(x))\n",
    "\n",
    "print(arr,\"Sort by length\")"
   ]
  },
  {
   "cell_type": "code",
   "execution_count": 117,
   "metadata": {},
   "outputs": [
    {
     "name": "stdout",
     "output_type": "stream",
     "text": [
      "[0, 1, 2, 3, 4]\n"
     ]
    }
   ],
   "source": [
    "arr = [i for i in range(5)]\n",
    "print(arr)"
   ]
  },
  {
   "cell_type": "code",
   "execution_count": 118,
   "metadata": {},
   "outputs": [
    {
     "name": "stdout",
     "output_type": "stream",
     "text": [
      "[0, 2, 4, 6, 8]\n"
     ]
    }
   ],
   "source": [
    "arr = [i+i for i in range(5)]\n",
    "print(arr)"
   ]
  },
  {
   "cell_type": "code",
   "execution_count": null,
   "metadata": {},
   "outputs": [
    {
     "name": "stdout",
     "output_type": "stream",
     "text": [
      "[[0, 0, 0, 0], [0, 0, 0, 0], [0, 0, 0, 0], [0, 0, 0, 0]] Correct\n",
      "[[0, 0, 0, 0], [0, 0, 0, 0], [0, 0, 0, 0], [0, 0, 0, 0]] Wrong\n"
     ]
    }
   ],
   "source": [
    "# These is correct method\n",
    "arr = [[0]*4 for i in range(4)]\n",
    "print(arr,\"Correct\")\n",
    "\n",
    "# These is wrong as it will take only row \n",
    "arr= [[0]*4]*4\n",
    "print(arr,\"Wrong\")"
   ]
  },
  {
   "cell_type": "markdown",
   "metadata": {},
   "source": [
    "## Markdown"
   ]
  },
  {
   "cell_type": "code",
   "execution_count": 123,
   "metadata": {},
   "outputs": [
    {
     "name": "stdout",
     "output_type": "stream",
     "text": [
      "ab\n",
      "abcdef\n"
     ]
    }
   ],
   "source": [
    "# Strings are similar to arrays\n",
    "s= \"abc\"\n",
    "print(s[0:2])\n",
    "\n",
    "# But they are immutable we cant modify\n",
    "# s[0] = \"A\"\n",
    "\n",
    "# we can add a string but it will create a new string\n",
    "\n",
    "s+= \"def\"\n",
    "print(s)"
   ]
  },
  {
   "cell_type": "code",
   "execution_count": 126,
   "metadata": {},
   "outputs": [
    {
     "name": "stdout",
     "output_type": "stream",
     "text": [
      "246\n",
      "123123\n",
      "97\n",
      "98\n"
     ]
    }
   ],
   "source": [
    "# Valid numeric strings can be converted \n",
    "print(int(\"123\")+int(\"123\"))\n",
    "\n",
    "# And numbers can be converted to strings\n",
    "print(str(123)+str(123))\n",
    "\n",
    "# In rare cases you may need the ASCII value\n",
    "print(ord(\"a\"))\n",
    "print(ord(\"b\"))"
   ]
  },
  {
   "cell_type": "code",
   "execution_count": 131,
   "metadata": {},
   "outputs": [
    {
     "name": "stdout",
     "output_type": "stream",
     "text": [
      "ab bc cd\n"
     ]
    }
   ],
   "source": [
    "#Combine a list of string (with an empty string #delimitor)\n",
    "strings= [ \"ab\",\"bc\",\"cd\"]\n",
    "print(\" \".join(strings))"
   ]
  },
  {
   "cell_type": "code",
   "execution_count": 136,
   "metadata": {},
   "outputs": [
    {
     "name": "stdout",
     "output_type": "stream",
     "text": [
      "deque([1, 5])\n",
      "deque([5])\n",
      "deque([1, 5])\n",
      "deque([1])\n"
     ]
    }
   ],
   "source": [
    "# Queues (double ended queue)\n",
    "from collections import deque\n",
    "\n",
    "queue = deque()\n",
    "queue.append(1)\n",
    "queue.append(5)\n",
    "print(queue)\n",
    "queue.popleft()\n",
    "print(queue)\n",
    "queue.appendleft(1)\n",
    "print(queue)\n",
    "queue.pop()\n",
    "print(queue)"
   ]
  },
  {
   "cell_type": "code",
   "execution_count": 143,
   "metadata": {},
   "outputs": [
    {
     "name": "stdout",
     "output_type": "stream",
     "text": [
      "{1, 2}\n",
      "2\n",
      "True\n",
      "True\n",
      "False\n",
      "False\n"
     ]
    }
   ],
   "source": [
    "#HashSet\n",
    "mySet = set()\n",
    "mySet.add(1)\n",
    "mySet.add(2)\n",
    "print(mySet)\n",
    "print(len(mySet))\n",
    "\n",
    "print(1 in mySet)\n",
    "print(2 in mySet)\n",
    "print(3 in mySet)\n",
    "\n",
    "mySet.remove(2)\n",
    "print(2 in mySet)"
   ]
  },
  {
   "cell_type": "code",
   "execution_count": 145,
   "metadata": {},
   "outputs": [
    {
     "name": "stdout",
     "output_type": "stream",
     "text": [
      "{1, 2, 3}\n",
      "{0, 1, 2, 3, 4}\n"
     ]
    }
   ],
   "source": [
    "# list to set\n",
    "print(set([1,2,3]))\n",
    "\n",
    "#Set comprehension\n",
    "mySet = {i for i in range(5)}\n",
    "print(mySet)"
   ]
  },
  {
   "cell_type": "code",
   "execution_count": 148,
   "metadata": {},
   "outputs": [
    {
     "name": "stdout",
     "output_type": "stream",
     "text": [
      "{'alice': 88, 'bob': 77}\n",
      "2\n",
      "80\n",
      "True\n",
      "False\n",
      "{'alice': 90, 'bob': 70}\n"
     ]
    }
   ],
   "source": [
    "# HashMap\n",
    "myMap = {}\n",
    "myMap[\"alice\"]= 88\n",
    "myMap[\"bob\"] = 77\n",
    "print(myMap)\n",
    "print(len(myMap))\n",
    "\n",
    "myMap[\"alice\"] = 80\n",
    "print(myMap[\"alice\"])\n",
    "\n",
    "print(\"alice\" in myMap)\n",
    "myMap.pop(\"alice\")\n",
    "print(\"alice\" in myMap)\n",
    "\n",
    "myMap = {\"alice\":90, \"bob\":70}\n",
    "print(myMap)"
   ]
  },
  {
   "cell_type": "code",
   "execution_count": 150,
   "metadata": {},
   "outputs": [
    {
     "name": "stdout",
     "output_type": "stream",
     "text": [
      "{0: 0, 1: 2, 2: 4}\n"
     ]
    }
   ],
   "source": [
    "#Dict Comprehesion Powerful\n",
    "myMap = { i:2*i for i in range(3)}\n",
    "print(myMap)"
   ]
  },
  {
   "cell_type": "code",
   "execution_count": 152,
   "metadata": {},
   "outputs": [
    {
     "name": "stdout",
     "output_type": "stream",
     "text": [
      "alice 90 keyvaluepairs\n",
      "bob 70 keyvaluepairs\n",
      "90 values\n",
      "70 values\n",
      "alice 90 keyvalues\n",
      "bob 70 keyvalues\n"
     ]
    }
   ],
   "source": [
    "# Looping through maps\n",
    "myMap = {\"alice\":90, \"bob\":70}\n",
    "for key in myMap:\n",
    "    print(key,myMap[key],\"keyvaluepairs\")\n",
    "for val in myMap.values():\n",
    "    print(val,\"values\")\n",
    "for key,val in myMap.items():\n",
    "    print(key,val,\"keyvalues\")\n"
   ]
  },
  {
   "cell_type": "code",
   "execution_count": 154,
   "metadata": {},
   "outputs": [
    {
     "name": "stdout",
     "output_type": "stream",
     "text": [
      "(1, 2, 3)\n",
      "1\n",
      "3\n"
     ]
    }
   ],
   "source": [
    "tup = (1,2,3)\n",
    "print(tup)\n",
    "print(tup[0])\n",
    "print(tup[-1])\n",
    "\n",
    "# Cant modify immutiable\n",
    "# tup[0]=0\n",
    "# These wont work"
   ]
  },
  {
   "cell_type": "code",
   "execution_count": 158,
   "metadata": {},
   "outputs": [
    {
     "name": "stdout",
     "output_type": "stream",
     "text": [
      "3\n",
      "True\n"
     ]
    }
   ],
   "source": [
    "# Can be used as key for hash map/set\n",
    "myMap = {(1,2):3}\n",
    "print(myMap[(1,2)])\n",
    "mySet = set()\n",
    "mySet.add((1,2))\n",
    "print((1,2) in mySet)\n",
    "\n",
    "# Lists cant be keys\n",
    "# myMap[[3,4]] = 5"
   ]
  },
  {
   "cell_type": "code",
   "execution_count": null,
   "metadata": {},
   "outputs": [
    {
     "name": "stdout",
     "output_type": "stream",
     "text": [
      "2\n",
      "2\n",
      "3\n",
      "4\n"
     ]
    }
   ],
   "source": [
    "# Heaps\n",
    "import heapq\n",
    "\n",
    "minHeap=[]\n",
    "heapq.heappush(minHeap,3)\n",
    "heapq.heappush(minHeap,2)\n",
    "heapq.heappush(minHeap,4)\n",
    "\n",
    "# Min is always at index 0 \n",
    "print(minHeap[0])\n",
    "\n",
    "while len(minHeap):\n",
    "    print(heapq.heappop(minHeap))"
   ]
  },
  {
   "cell_type": "code",
   "execution_count": 163,
   "metadata": {},
   "outputs": [
    {
     "name": "stdout",
     "output_type": "stream",
     "text": [
      "4\n",
      "4\n",
      "3\n",
      "2\n"
     ]
    }
   ],
   "source": [
    "import heapq\n",
    "maxHeap = []\n",
    "heapq.heappush(maxHeap,-3)\n",
    "heapq.heappush(maxHeap,-2)\n",
    "heapq.heappush(maxHeap,-4)\n",
    "\n",
    "# Max is always at index 0\n",
    "print(-1*maxHeap[0])\n",
    "\n",
    "while len(maxHeap):\n",
    "    print(-1*heapq.heappop(maxHeap))"
   ]
  },
  {
   "cell_type": "code",
   "execution_count": 165,
   "metadata": {},
   "outputs": [
    {
     "name": "stdout",
     "output_type": "stream",
     "text": [
      "1\n",
      "2\n",
      "4\n",
      "5\n",
      "8\n"
     ]
    }
   ],
   "source": [
    "import heapq\n",
    "arr=[2,1,8,4,5]\n",
    "heapq.heapify(arr)\n",
    "while arr:\n",
    "    print(heapq.heappop(arr))"
   ]
  },
  {
   "cell_type": "markdown",
   "metadata": {},
   "source": [
    "## Functions"
   ]
  },
  {
   "cell_type": "code",
   "execution_count": 168,
   "metadata": {},
   "outputs": [
    {
     "name": "stdout",
     "output_type": "stream",
     "text": [
      "12\n"
     ]
    }
   ],
   "source": [
    "def myFunction(a,b):\n",
    "    return a*b\n",
    "\n",
    "print(myFunction(3,4))"
   ]
  },
  {
   "cell_type": "code",
   "execution_count": null,
   "metadata": {},
   "outputs": [
    {
     "name": "stdout",
     "output_type": "stream",
     "text": [
      "abc\n"
     ]
    }
   ],
   "source": [
    "# Neseted functions\n",
    "# Varialbes\n",
    "def outer(a,b):\n",
    "    c=\"c\"\n",
    "    \n",
    "    def inner():\n",
    "        return a+b+c\n",
    "    return inner()\n",
    "\n",
    "print(outer(\"a\",\"b\"))"
   ]
  },
  {
   "cell_type": "code",
   "execution_count": 172,
   "metadata": {},
   "outputs": [
    {
     "name": "stdout",
     "output_type": "stream",
     "text": [
      "[2, 4] 6\n"
     ]
    }
   ],
   "source": [
    "# Can modify objects but not reassign\n",
    "# unless using nonlocal keyword\n",
    "def double(arr,val):\n",
    "    def helper():\n",
    "        for i, n in enumerate(arr):\n",
    "            arr[i]*=2\n",
    "        nonlocal val\n",
    "        val*=2\n",
    "    helper()\n",
    "    print(arr,val)\n",
    "\n",
    "nums = [1,2]    \n",
    "val = 3\n",
    "double(nums,val)"
   ]
  },
  {
   "cell_type": "markdown",
   "metadata": {},
   "source": [
    "## Class"
   ]
  },
  {
   "cell_type": "code",
   "execution_count": 174,
   "metadata": {},
   "outputs": [],
   "source": [
    "#Class\n",
    "class MyClass:\n",
    "    def __init__(self,nums):\n",
    "        #Create memeber variables\n",
    "        self.nums = nums\n",
    "        self.size = len(nums)\n",
    "    # self keyword required as param\n",
    "    def getLenght(self):\n",
    "        return self.size\n",
    "    def getDoubleLenght(self):\n",
    "        return 2 * self.getLenght()"
   ]
  },
  {
   "cell_type": "markdown",
   "metadata": {},
   "source": [
    "## Arrays"
   ]
  },
  {
   "cell_type": "code",
   "execution_count": 11,
   "metadata": {},
   "outputs": [
    {
     "name": "stdout",
     "output_type": "stream",
     "text": [
      "sumn of elements 30\n",
      "min and max (8, 2)\n",
      "reverse list [8, 8, 5, 4, 3, 2]\n",
      "remove duplicates [2, 3, 4, 5, 8]\n"
     ]
    }
   ],
   "source": [
    "arr= [2,3,4,5,8,8]\n",
    "def sum_of_elements(arr):\n",
    "    return sum(arr)\n",
    "\n",
    "print('sumn of elements',sum_of_elements(arr))\n",
    "\n",
    "def find_max_min(arr):\n",
    "    return max(arr), min(arr)\n",
    "\n",
    "print('min and max',find_max_min(arr))\n",
    "\n",
    "def reverse_list(arr):\n",
    "    return arr[::-1]\n",
    "\n",
    "print('reverse list',reverse_list(arr))\n",
    "\n",
    "def remove_duplicates(arr):\n",
    "    return list(set(arr))\n",
    "\n",
    "print('remove duplicates',remove_duplicates(arr))\n",
    "\n"
   ]
  },
  {
   "cell_type": "markdown",
   "metadata": {},
   "source": [
    "## Strings"
   ]
  },
  {
   "cell_type": "code",
   "execution_count": 13,
   "metadata": {},
   "outputs": [
    {
     "name": "stdout",
     "output_type": "stream",
     "text": [
      "Palindrome False\n",
      "count_vowels (6, 0)\n"
     ]
    }
   ],
   "source": [
    "s='Sudeep'\n",
    "def is_palindrome(s):\n",
    "    return s == s[::-1]\n",
    "\n",
    "print('Palindrome',is_palindrome(s))\n",
    "\n",
    "def count_vowels_consonants(s):\n",
    "    vowels = 'aeiouAEIOU'\n",
    "    v_count = sum(1 for char in s if char )\n",
    "    c_count = len(s) - v_count\n",
    "    return v_count, c_count\n",
    "print('count_vowels',count_vowels_consonants(s))"
   ]
  },
  {
   "cell_type": "code",
   "execution_count": null,
   "metadata": {},
   "outputs": [],
   "source": []
  }
 ],
 "metadata": {
  "kernelspec": {
   "display_name": ".venv",
   "language": "python",
   "name": "python3"
  },
  "language_info": {
   "codemirror_mode": {
    "name": "ipython",
    "version": 3
   },
   "file_extension": ".py",
   "mimetype": "text/x-python",
   "name": "python",
   "nbconvert_exporter": "python",
   "pygments_lexer": "ipython3",
   "version": "3.11.6"
  }
 },
 "nbformat": 4,
 "nbformat_minor": 2
}
