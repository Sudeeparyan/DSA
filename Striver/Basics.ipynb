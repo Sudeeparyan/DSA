{
 "cells": [
  {
   "cell_type": "code",
   "execution_count": 1,
   "metadata": {},
   "outputs": [
    {
     "name": "stdout",
     "output_type": "stream",
     "text": [
      "Sudeep value is 1\n",
      "Sudeep value is 2\n",
      "Sudeep value is 3\n",
      "Sudeep value is 4\n",
      "Sudeep value is 5\n",
      "Sudeep value is 6\n",
      "Sudeep value is 7\n",
      "Sudeep value is 8\n",
      "Sudeep value is 9\n"
     ]
    }
   ],
   "source": [
    "for i in range(1,10):\n",
    "    print(f\"Sudeep value is {i}\")"
   ]
  },
  {
   "cell_type": "code",
   "execution_count": 2,
   "metadata": {},
   "outputs": [
    {
     "name": "stdout",
     "output_type": "stream",
     "text": [
      "Factoral of 5 is 120\n"
     ]
    }
   ],
   "source": [
    "factoral = 1\n",
    "number=5\n",
    "\n",
    "while number>0:\n",
    "    factoral*=number\n",
    "    number-=1\n",
    "print(f\"Factoral of 5 is {factoral}\")"
   ]
  },
  {
   "cell_type": "code",
   "execution_count": 7,
   "metadata": {},
   "outputs": [
    {
     "name": "stdout",
     "output_type": "stream",
     "text": [
      "Checking: 1\n",
      "Checking: 2\n",
      "Checking: 3\n",
      "Checking: 4\n",
      "Checking: 5\n",
      "Target values is 6\n",
      "Odd number is 1\n",
      "Odd number is 3\n",
      "Odd number is 5\n",
      "Odd number is 7\n",
      "Odd number is 9\n"
     ]
    }
   ],
   "source": [
    "# Initialize the array and target\n",
    "numbers = [1, 2, 3, 4, 5, 6, 7, 8, 9, 10]\n",
    "target = 6\n",
    "\n",
    "for num in numbers:\n",
    "    if num == target:\n",
    "        print(f\"Target values is {num}\")\n",
    "        break\n",
    "    print(f'Checking: {num}')\n",
    "    \n",
    "for num in numbers:\n",
    "    if num%2 ==0:\n",
    "        continue\n",
    "    print(f\"Odd number is {num}\")\n"
   ]
  },
  {
   "cell_type": "code",
   "execution_count": null,
   "metadata": {},
   "outputs": [
    {
     "name": "stdout",
     "output_type": "stream",
     "text": [
      "* * * * * * * * * * * * * * * * \n"
     ]
    }
   ],
   "source": [
    "# Outer loop for rows\n",
    "for i in range(4):\n",
    "    # Inner loop for columns\n",
    "    for j in range(4):\n",
    "        print(\"*\", end=\" \")  # Print '*' and stay on the same line\n",
    "    print()  # Move to the next line after each row\n"
   ]
  },
  {
   "cell_type": "code",
   "execution_count": 19,
   "metadata": {},
   "outputs": [
    {
     "name": "stdout",
     "output_type": "stream",
     "text": [
      "****\n",
      "****\n",
      "****\n",
      "****\n"
     ]
    }
   ],
   "source": [
    "for i in range(4):\n",
    "    for j in range(4):\n",
    "        print(\"*\",end='')\n",
    "    print()"
   ]
  },
  {
   "cell_type": "code",
   "execution_count": 22,
   "metadata": {},
   "outputs": [
    {
     "name": "stdout",
     "output_type": "stream",
     "text": [
      "* \n",
      "* * \n",
      "* * * \n",
      "* * * * \n",
      "* * * * * \n",
      "* \n",
      "* * \n",
      "* * * \n",
      "* \n",
      "* * \n"
     ]
    }
   ],
   "source": [
    "def graph(n):\n",
    "    for i in range(n):\n",
    "        for j in range(i + 1):\n",
    "            print(\"*\", end=\" \")\n",
    "        print()  # Move to the next line\n",
    "\n",
    "def main():\n",
    "    number_of_test_case = int(input(\"Enter number of test cases: \"))\n",
    "    for _ in range(number_of_test_case):\n",
    "        number_of_patterns = int(input(\"Enter a number: \"))\n",
    "        graph(number_of_patterns)\n",
    "\n",
    "if __name__ == \"__main__\":\n",
    "    main()\n"
   ]
  },
  {
   "cell_type": "code",
   "execution_count": null,
   "metadata": {},
   "outputs": [],
   "source": []
  }
 ],
 "metadata": {
  "kernelspec": {
   "display_name": ".venv",
   "language": "python",
   "name": "python3"
  },
  "language_info": {
   "codemirror_mode": {
    "name": "ipython",
    "version": 3
   },
   "file_extension": ".py",
   "mimetype": "text/x-python",
   "name": "python",
   "nbconvert_exporter": "python",
   "pygments_lexer": "ipython3",
   "version": "3.11.6"
  }
 },
 "nbformat": 4,
 "nbformat_minor": 2
}
