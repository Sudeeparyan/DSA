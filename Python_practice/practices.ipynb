{
 "cells": [
  {
   "cell_type": "code",
   "execution_count": 7,
   "metadata": {},
   "outputs": [
    {
     "name": "stdout",
     "output_type": "stream",
     "text": [
      "Bob 20\n",
      "Hello, my name is: Bob and I am 20 years old\n"
     ]
    }
   ],
   "source": [
    "name=\"Bob\"\n",
    "age=20\n",
    "print(name,age)\n",
    "print('Hello, my name is: {name} and I am {age} years old'.format(name=name,age=age))"
   ]
  },
  {
   "cell_type": "code",
   "execution_count": 8,
   "metadata": {},
   "outputs": [],
   "source": [
    "number: int = 10\n",
    "decimal: float = 2.5\n",
    "text: str = \"Hello, World!\"\n",
    "active: bool = False\n",
    "\n",
    "names:list = ['Sudeep','Aryan']\n",
    "coordinates:tuple = (10,20)\n",
    "unique: set = {1,2,3,4,5}\n",
    "data: dict = {'name':'Sudeep Aryan','age':20}"
   ]
  },
  {
   "cell_type": "code",
   "execution_count": null,
   "metadata": {},
   "outputs": [],
   "source": [
    "##Type anotations\n",
    "name:str = 'Sudeep Aryan'\n",
    "age:int ='Eleven' \n",
    "\n",
    "print(age)"
   ]
  },
  {
   "cell_type": "code",
   "execution_count": 9,
   "metadata": {},
   "outputs": [],
   "source": [
    "# Constants\n",
    "from typing import Final\n",
    "VERSION: Final[str] = '1.0.0'\n",
    "PI:Final[float] = 3.14"
   ]
  },
  {
   "cell_type": "code",
   "execution_count": 16,
   "metadata": {},
   "outputs": [],
   "source": [
    "# Resuable code Functions\n",
    "from datetime import datetime\n",
    "\n",
    "def show_date():\n",
    "    print(\"This is the current time:\")\n",
    "    print(datetime.now())"
   ]
  },
  {
   "cell_type": "code",
   "execution_count": 19,
   "metadata": {},
   "outputs": [
    {
     "name": "stdout",
     "output_type": "stream",
     "text": [
      "This is the current time:\n",
      "2024-10-17 17:53:23.298537\n"
     ]
    }
   ],
   "source": [
    "show_date()"
   ]
  },
  {
   "cell_type": "code",
   "execution_count": 29,
   "metadata": {},
   "outputs": [],
   "source": [
    "def greet(name:str)->None:\n",
    "    print(f\"Hello {name}\",)"
   ]
  },
  {
   "cell_type": "code",
   "execution_count": 30,
   "metadata": {},
   "outputs": [
    {
     "name": "stdout",
     "output_type": "stream",
     "text": [
      "Hello Sudeep\n"
     ]
    }
   ],
   "source": [
    "greet('Sudeep')"
   ]
  },
  {
   "cell_type": "code",
   "execution_count": 31,
   "metadata": {},
   "outputs": [
    {
     "name": "stdout",
     "output_type": "stream",
     "text": [
      "Hello Aryan\n"
     ]
    }
   ],
   "source": [
    "greet('Aryan')"
   ]
  },
  {
   "cell_type": "code",
   "execution_count": 40,
   "metadata": {},
   "outputs": [],
   "source": [
    "def add(a:float,b:float)->float:\n",
    "    return a+b"
   ]
  },
  {
   "cell_type": "code",
   "execution_count": 41,
   "metadata": {},
   "outputs": [
    {
     "name": "stdout",
     "output_type": "stream",
     "text": [
      "13.399999999999999\n"
     ]
    }
   ],
   "source": [
    "Number = add(5.6,7.8)\n",
    "print(Number)"
   ]
  },
  {
   "cell_type": "code",
   "execution_count": 3,
   "metadata": {},
   "outputs": [
    {
     "name": "stdout",
     "output_type": "stream",
     "text": [
      "['Computer ', 'App Engine', 'Kubernetes'] Kubernetes\n",
      "(40.7, -74.05)\n",
      "{'Aryan', 'Vicky', 'Sudeep'}\n",
      "{'Sudeep': 1, 'Aryan': 2, 'Vicky': 3}\n"
     ]
    }
   ],
   "source": [
    "## List\n",
    "list=['Computer ','App Engine','Kubernetes']\n",
    "print(list,list[2])\n",
    "\n",
    "tuple=(40.7,-74.05)\n",
    "print(tuple)\n",
    "\n",
    "set={\"Sudeep\",\"Aryan\",\"Vicky\"}\n",
    "print(set)\n",
    "\n",
    "dictionary={\"Sudeep\":1, \"Aryan\":2, \"Vicky\":3}\n",
    "print(dictionary)"
   ]
  },
  {
   "cell_type": "code",
   "execution_count": 47,
   "metadata": {},
   "outputs": [
    {
     "name": "stdout",
     "output_type": "stream",
     "text": [
      "blue 300\n",
      "red 200\n"
     ]
    }
   ],
   "source": [
    "# Class group of functions is called class it can simplifies the process\n",
    "class Car:\n",
    "    def __init__(self,colour:str,horsepower:int) -> None:\n",
    "        self.colour = colour\n",
    "        self.horsepower = horsepower\n",
    "bwm = Car('blue',300)\n",
    "print(bmw.colour,bwm.horsepower)\n",
    "\n",
    "volvo = Car('red',200)\n",
    "\n",
    "print(volvo.colour,volvo.horsepower)"
   ]
  },
  {
   "cell_type": "code",
   "execution_count": 48,
   "metadata": {},
   "outputs": [
    {
     "name": "stdout",
     "output_type": "stream",
     "text": [
      "The Volvo is driving\n",
      "10\n",
      "Volvo with 200 horsepower\n",
      "The BMW is driving\n"
     ]
    }
   ],
   "source": [
    "# Method is a just a function which is inside a class\n",
    "\n",
    "class Car:\n",
    "    def __init__(self,brand:str,horsepower:int)->None:\n",
    "        self.brand = brand\n",
    "        self.horsepower = horsepower\n",
    "        \n",
    "    def drive(self)->None:\n",
    "        print(f\"The {self.brand} is driving\")\n",
    "        \n",
    "    def get_info(self, var:int)->None:\n",
    "        print(var)\n",
    "        print(f'{self.brand} with {self.horsepower} horsepower')\n",
    "    \n",
    "volvo: Car = Car('Volvo',200)\n",
    "volvo.drive()\n",
    "volvo.get_info(10)\n",
    "bmw: Car = Car('BMW',240)\n",
    "bmw.drive()"
   ]
  },
  {
   "cell_type": "code",
   "execution_count": 50,
   "metadata": {},
   "outputs": [
    {
     "name": "stdout",
     "output_type": "stream",
     "text": [
      "Volvo and BMW\n",
      "Volvo is BMW\n"
     ]
    }
   ],
   "source": [
    "# Dunder Methods\n",
    "from typing import Self\n",
    "class Car:\n",
    "    def __init__(self,brand:str,horsepower:int)->None:\n",
    "        self.brand = brand\n",
    "        self.horsepower = horsepower\n",
    "    def __str__(self) -> str:\n",
    "        return f'{self.brand} , {self.horsepower} horsepower'\n",
    "    def __add__(self, other:Self)->str:\n",
    "        return f'{self.brand} and {other.brand}'\n",
    "    def __mul__(self,other):\n",
    "        return f'{self.brand} is {other.brand}'\n",
    "volvo: Car = Car('Volvo',200)\n",
    "bmw: Car = Car('BMW',240)\n",
    "print(volvo + bmw)\n",
    "print(volvo*bmw)"
   ]
  },
  {
   "cell_type": "markdown",
   "metadata": {},
   "source": [
    "# ChatGPT Exmaples"
   ]
  },
  {
   "cell_type": "code",
   "execution_count": 1,
   "metadata": {},
   "outputs": [
    {
     "name": "stdout",
     "output_type": "stream",
     "text": [
      "Rex says woof\n"
     ]
    }
   ],
   "source": [
    "class Dog:\n",
    "    def __init__(self,name,breed):\n",
    "        self.name = name\n",
    "        self.breed = breed\n",
    "        \n",
    "    def bark(self):\n",
    "        print(f'{self.name} says woof')\n",
    "\n",
    "my_dog = Dog(\"Rex\",\"Labrador\")\n",
    "my_dog.bark()"
   ]
  },
  {
   "cell_type": "code",
   "execution_count": 2,
   "metadata": {},
   "outputs": [
    {
     "name": "stdout",
     "output_type": "stream",
     "text": [
      "Dog Barks\n"
     ]
    }
   ],
   "source": [
    "class Animal:\n",
    "    def speak(self):\n",
    "        print(\"Animal Speaks\")\n",
    "\n",
    "class Dog(Animal):\n",
    "    def speak(self):\n",
    "        print(\"Dog Barks\")\n",
    "        \n",
    "dog =Dog()\n",
    "dog.speak()"
   ]
  },
  {
   "cell_type": "markdown",
   "metadata": {},
   "source": [
    "# Error Handling"
   ]
  },
  {
   "cell_type": "code",
   "execution_count": 13,
   "metadata": {},
   "outputs": [
    {
     "name": "stdout",
     "output_type": "stream",
     "text": [
      "Error: division by zero\n",
      "This will always run\n"
     ]
    }
   ],
   "source": [
    "try:\n",
    "    result = 10/0\n",
    "except ZeroDivisionError as e:\n",
    "    print(f\"Error: {e}\")\n",
    "finally:\n",
    "    print(\"This will always run\")"
   ]
  },
  {
   "cell_type": "code",
   "execution_count": 21,
   "metadata": {},
   "outputs": [
    {
     "ename": "ValueError",
     "evalue": "Cannot divide with zero",
     "output_type": "error",
     "traceback": [
      "\u001b[1;31m---------------------------------------------------------------------------\u001b[0m",
      "\u001b[1;31mValueError\u001b[0m                                Traceback (most recent call last)",
      "Cell \u001b[1;32mIn[21], line 6\u001b[0m\n\u001b[0;32m      3\u001b[0m         \u001b[38;5;28;01mraise\u001b[39;00m \u001b[38;5;167;01mValueError\u001b[39;00m(\u001b[38;5;124m\"\u001b[39m\u001b[38;5;124mCannot divide with zero\u001b[39m\u001b[38;5;124m\"\u001b[39m)\n\u001b[0;32m      4\u001b[0m     \u001b[38;5;28;01mreturn\u001b[39;00m a\u001b[38;5;241m/\u001b[39mb\n\u001b[1;32m----> 6\u001b[0m \u001b[38;5;28mprint\u001b[39m(\u001b[43mdivide\u001b[49m\u001b[43m(\u001b[49m\u001b[38;5;241;43m10\u001b[39;49m\u001b[43m,\u001b[49m\u001b[38;5;241;43m0\u001b[39;49m\u001b[43m)\u001b[49m)\n",
      "Cell \u001b[1;32mIn[21], line 3\u001b[0m, in \u001b[0;36mdivide\u001b[1;34m(a, b)\u001b[0m\n\u001b[0;32m      1\u001b[0m \u001b[38;5;28;01mdef\u001b[39;00m \u001b[38;5;21mdivide\u001b[39m(a,b):\n\u001b[0;32m      2\u001b[0m     \u001b[38;5;28;01mif\u001b[39;00m b \u001b[38;5;241m==\u001b[39m \u001b[38;5;241m0\u001b[39m:\n\u001b[1;32m----> 3\u001b[0m         \u001b[38;5;28;01mraise\u001b[39;00m \u001b[38;5;167;01mValueError\u001b[39;00m(\u001b[38;5;124m\"\u001b[39m\u001b[38;5;124mCannot divide with zero\u001b[39m\u001b[38;5;124m\"\u001b[39m)\n\u001b[0;32m      4\u001b[0m     \u001b[38;5;28;01mreturn\u001b[39;00m a\u001b[38;5;241m/\u001b[39mb\n",
      "\u001b[1;31mValueError\u001b[0m: Cannot divide with zero"
     ]
    }
   ],
   "source": [
    "def divide(a,b):\n",
    "    if b == 0:\n",
    "        raise ValueError(\"Cannot divide with zero\")\n",
    "    return a/b\n",
    "\n",
    "print(divide(10,0))"
   ]
  },
  {
   "cell_type": "markdown",
   "metadata": {},
   "source": [
    "## Python Comprehension"
   ]
  },
  {
   "cell_type": "code",
   "execution_count": 23,
   "metadata": {},
   "outputs": [
    {
     "name": "stdout",
     "output_type": "stream",
     "text": [
      "[1, 4, 9, 16, 25]\n"
     ]
    }
   ],
   "source": [
    "# List Comprehension:\n",
    "numbers = [1,2,3,4,5]\n",
    "squares = [n**2 for n in numbers]\n",
    "print(squares)"
   ]
  },
  {
   "cell_type": "code",
   "execution_count": 29,
   "metadata": {},
   "outputs": [
    {
     "name": "stdout",
     "output_type": "stream",
     "text": [
      "['Sudeep', 'Aryan', 'Vicky']\n"
     ]
    }
   ],
   "source": [
    "# Dictionary Comprehension\n",
    "names = [\"Sudeep\",\"Aryan\",\"Vicky\"]\n",
    "name_lengths = {name:len(name) for name in names}\n",
    "print(names)"
   ]
  },
  {
   "cell_type": "code",
   "execution_count": 31,
   "metadata": {},
   "outputs": [
    {
     "name": "stdout",
     "output_type": "stream",
     "text": [
      "{1, 4, 9, 16, 25}\n"
     ]
    }
   ],
   "source": [
    "# Set Comprehensions\n",
    "unique_squares ={n**2 for n in numbers}\n",
    "print(unique_squares)"
   ]
  },
  {
   "cell_type": "code",
   "execution_count": 32,
   "metadata": {},
   "outputs": [
    {
     "name": "stdout",
     "output_type": "stream",
     "text": [
      "1\n",
      "4\n",
      "9\n",
      "16\n",
      "25\n"
     ]
    }
   ],
   "source": [
    "# Generator Comprehension\n",
    "\n",
    "gen = {n**2 for n in numbers}\n",
    "\n",
    "for value in gen:\n",
    "    print(value)"
   ]
  },
  {
   "cell_type": "code",
   "execution_count": 41,
   "metadata": {},
   "outputs": [
    {
     "name": "stdout",
     "output_type": "stream",
     "text": [
      "Sudeep\n"
     ]
    }
   ],
   "source": [
    "with open('test_files\\demo1.txt','r') as file:\n",
    "    content = file.read()\n",
    "    print(content)"
   ]
  },
  {
   "cell_type": "code",
   "execution_count": 47,
   "metadata": {},
   "outputs": [],
   "source": [
    "with open('test_files\\output.txt','w') as file:\n",
    "    file.write(\"Hello World\")\n"
   ]
  },
  {
   "cell_type": "code",
   "execution_count": 51,
   "metadata": {},
   "outputs": [],
   "source": [
    "with open('test_files\\output.txt','a') as file:\n",
    "    file.write(\"\\nHello World Sudeep Aryan\")"
   ]
  },
  {
   "cell_type": "markdown",
   "metadata": {},
   "source": [
    "# Unit Test Case"
   ]
  },
  {
   "cell_type": "code",
   "execution_count": 6,
   "metadata": {},
   "outputs": [
    {
     "name": "stderr",
     "output_type": "stream",
     "text": [
      "usage: ipykernel_launcher.py [-h] [-v] [-q] [--locals] [-f] [-c] [-b]\n",
      "                             [-k TESTNAMEPATTERNS]\n",
      "                             [tests ...]\n",
      "ipykernel_launcher.py: error: argument -f/--failfast: ignored explicit argument 'c:\\\\Users\\\\sudeeparyan.g\\\\AppData\\\\Roaming\\\\jupyter\\\\runtime\\\\kernel-v39dd748bbc6bf9c457804ced00854d2d2a58a27f2.json'\n"
     ]
    },
    {
     "ename": "SystemExit",
     "evalue": "2",
     "output_type": "error",
     "traceback": [
      "An exception has occurred, use %tb to see the full traceback.\n",
      "\u001b[1;31mSystemExit\u001b[0m\u001b[1;31m:\u001b[0m 2\n"
     ]
    },
    {
     "name": "stderr",
     "output_type": "stream",
     "text": [
      "d:\\AI\\Python\\.venv\\Lib\\site-packages\\IPython\\core\\interactiveshell.py:3585: UserWarning: To exit: use 'exit', 'quit', or Ctrl-D.\n",
      "  warn(\"To exit: use 'exit', 'quit', or Ctrl-D.\", stacklevel=1)\n"
     ]
    }
   ],
   "source": [
    "import unittest\n",
    "\n",
    "def add(a,b):\n",
    "    return a+b\n",
    "\n",
    "class TestAdd(unittest.TestCase):\n",
    "    def test_add(self):\n",
    "        self.assertEqual(add(1,2),3)\n",
    "        \n",
    "if __name__ == '__main__':\n",
    "    unittest.main()"
   ]
  },
  {
   "cell_type": "markdown",
   "metadata": {},
   "source": [
    "# Python Generators"
   ]
  },
  {
   "cell_type": "code",
   "execution_count": 11,
   "metadata": {},
   "outputs": [
    {
     "name": "stdout",
     "output_type": "stream",
     "text": [
      "0\n",
      "1\n"
     ]
    }
   ],
   "source": [
    "def my_generator():\n",
    "    for i in range(3):\n",
    "        yield i\n",
    "\n",
    "gen =my_generator()\n",
    "print(next(gen))\n",
    "print(next(gen))"
   ]
  },
  {
   "cell_type": "markdown",
   "metadata": {},
   "source": [
    "## Advanced OOP"
   ]
  },
  {
   "cell_type": "code",
   "execution_count": 23,
   "metadata": {},
   "outputs": [
    {
     "name": "stdout",
     "output_type": "stream",
     "text": [
      "Bark\n"
     ]
    }
   ],
   "source": [
    "class Animal:\n",
    "    def sound(self):\n",
    "        pass\n",
    "\n",
    "class Dog(Animal):\n",
    "    def sound(self):\n",
    "        return \"Bark\"\n",
    "    \n",
    "dog = Dog()\n",
    "print(dog.sound())"
   ]
  },
  {
   "cell_type": "markdown",
   "metadata": {},
   "source": [
    "## Magic Methods"
   ]
  },
  {
   "cell_type": "code",
   "execution_count": 28,
   "metadata": {},
   "outputs": [
    {
     "name": "stdout",
     "output_type": "stream",
     "text": [
      "Point(3,7)\n"
     ]
    }
   ],
   "source": [
    "# Dunder Methods\n",
    "\n",
    "class Point:\n",
    "    \n",
    "    def __init__(self,x,y):\n",
    "        self.x = x\n",
    "        self.y = y\n",
    "    \n",
    "    def __add__(self,other):\n",
    "        return Point(self.x + other.x, self.y+other.y)\n",
    "    \n",
    "    def __repr__(self):\n",
    "        return f\"Point({self.x},{self.y})\"\n",
    "    \n",
    "p1=Point(1,3)\n",
    "p2=Point(2,4)\n",
    "\n",
    "print(p1+p2)"
   ]
  },
  {
   "cell_type": "code",
   "execution_count": 32,
   "metadata": {},
   "outputs": [
    {
     "name": "stdout",
     "output_type": "stream",
     "text": [
      "Sudeep\n"
     ]
    }
   ],
   "source": [
    "#Context Managers\n",
    "with open('test_files/demo1.txt','r') as file:\n",
    "    data = file.read()\n",
    "print(data)"
   ]
  },
  {
   "cell_type": "code",
   "execution_count": 36,
   "metadata": {},
   "outputs": [
    {
     "name": "stdout",
     "output_type": "stream",
     "text": [
      "Entering the context\n",
      "Inside the Context\n",
      "Exiting the context\n"
     ]
    }
   ],
   "source": [
    "# Custom Context Manager using __enter__ and __exit__\n",
    "class MyContextManager:\n",
    "    def __enter__(self):\n",
    "        print(\"Entering the context\")\n",
    "        return self\n",
    "    \n",
    "    def __exit__(self,exc_type,exc_value,traceback):\n",
    "        print(\"Exiting the context\")\n",
    "\n",
    "with MyContextManager():\n",
    "    print(\"Inside the Context\")\n",
    "        "
   ]
  },
  {
   "cell_type": "code",
   "execution_count": null,
   "metadata": {},
   "outputs": [],
   "source": [
    "## Unit Test Advanced\n",
    "from unittest.mock import patch\n",
    "\n",
    "@patch('module_to_test.external_api_call')\n",
    "\n",
    "def test_api_call(mock_api_call):\n",
    "    mock_api_call.retrun_value = {'status'}"
   ]
  }
 ],
 "metadata": {
  "kernelspec": {
   "display_name": "Python 3",
   "language": "python",
   "name": "python3"
  },
  "language_info": {
   "codemirror_mode": {
    "name": "ipython",
    "version": 3
   },
   "file_extension": ".py",
   "mimetype": "text/x-python",
   "name": "python",
   "nbconvert_exporter": "python",
   "pygments_lexer": "ipython3",
   "version": "3.11.4"
  }
 },
 "nbformat": 4,
 "nbformat_minor": 2
}
